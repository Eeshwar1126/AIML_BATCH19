{
 "cells": [
  {
   "cell_type": "code",
   "execution_count": 1,
   "metadata": {},
   "outputs": [
    {
     "name": "stdout",
     "output_type": "stream",
     "text": [
      "Number 3 is greater\n"
     ]
    }
   ],
   "source": [
    "n1=int(input(\"Enter Number 1:\"))\n",
    "n2=int(input(\"Enter Number 2:\"))\n",
    "n3=int(input(\"Enter Number 3:\"))\n",
    "if(n1>n2):\n",
    "    if(n1>n3):\n",
    "        print(\"Number 1 is greater\")\n",
    "    else:\n",
    "        print(\"Number 3 is greater\")\n",
    "else:\n",
    "    if(n2>n3):\n",
    "        print(\"Number 2 is greater\")\n",
    "    else:\n",
    "        print(\"Number 3 is greater\")"
   ]
  }
 ],
 "metadata": {
  "kernelspec": {
   "display_name": "Python 3",
   "language": "python",
   "name": "python3"
  },
  "language_info": {
   "codemirror_mode": {
    "name": "ipython",
    "version": 3
   },
   "file_extension": ".py",
   "mimetype": "text/x-python",
   "name": "python",
   "nbconvert_exporter": "python",
   "pygments_lexer": "ipython3",
   "version": "3.10.13"
  }
 },
 "nbformat": 4,
 "nbformat_minor": 2
}
